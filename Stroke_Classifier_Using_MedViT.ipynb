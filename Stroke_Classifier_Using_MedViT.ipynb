{
  "nbformat": 4,
  "nbformat_minor": 0,
  "metadata": {
    "colab": {
      "provenance": [],
      "gpuType": "A100",
      "mount_file_id": "1FRqD-VBV5KY_SOldwwnNUFZX_3UDJhDS",
      "authorship_tag": "ABX9TyM7CdOeykYYVS6QUG6QAq79",
      "include_colab_link": true
    },
    "kernelspec": {
      "name": "python3",
      "display_name": "Python 3"
    },
    "language_info": {
      "name": "python"
    },
    "accelerator": "GPU"
  },
  "cells": [
    {
      "cell_type": "markdown",
      "metadata": {
        "id": "view-in-github",
        "colab_type": "text"
      },
      "source": [
        "<a href=\"https://colab.research.google.com/github/engabduallah/teknofest-green-matter/blob/main/Stroke_Classifier_Using_MedViT.ipynb\" target=\"_parent\"><img src=\"https://colab.research.google.com/assets/colab-badge.svg\" alt=\"Open In Colab\"/></a>"
      ]
    },
    {
      "cell_type": "code",
      "source": [
        "#capture\n",
        "!pip install pydicom\n",
        "!pip install gdcm\n",
        "!pip install pylibjpeg pylibjpeg-libjpeg"
      ],
      "metadata": {
        "colab": {
          "base_uri": "https://localhost:8080/"
        },
        "id": "zTjHROrcEIbx",
        "outputId": "ac34c019-ce01-4662-e342-f7e3fd6ffb58",
        "collapsed": true
      },
      "execution_count": 1,
      "outputs": [
        {
          "output_type": "stream",
          "name": "stdout",
          "text": [
            "Requirement already satisfied: pydicom in /usr/local/lib/python3.11/dist-packages (3.0.1)\n",
            "Requirement already satisfied: gdcm in /usr/local/lib/python3.11/dist-packages (1.1)\n",
            "Requirement already satisfied: pylibjpeg in /usr/local/lib/python3.11/dist-packages (2.0.1)\n",
            "Requirement already satisfied: pylibjpeg-libjpeg in /usr/local/lib/python3.11/dist-packages (2.3.0)\n",
            "Requirement already satisfied: numpy in /usr/local/lib/python3.11/dist-packages (from pylibjpeg) (2.0.2)\n"
          ]
        }
      ]
    },
    {
      "cell_type": "code",
      "source": [
        "!git clone https://github.com/Omid-Nejati/MedViT.git\n",
        "%cd /content/MedViT"
      ],
      "metadata": {
        "colab": {
          "base_uri": "https://localhost:8080/"
        },
        "id": "AG0rMcmnFveG",
        "outputId": "f56c8feb-e981-4a16-c4fc-f512a31a2f9f",
        "collapsed": true
      },
      "execution_count": 2,
      "outputs": [
        {
          "output_type": "stream",
          "name": "stdout",
          "text": [
            "fatal: destination path 'MedViT' already exists and is not an empty directory.\n",
            "/content/MedViT\n"
          ]
        }
      ]
    },
    {
      "cell_type": "code",
      "source": [
        "!pip install -r requirements.txt"
      ],
      "metadata": {
        "colab": {
          "base_uri": "https://localhost:8080/"
        },
        "id": "CzhXPtxtFDIp",
        "outputId": "18113776-23da-41f2-9ba7-d58d145551dc",
        "collapsed": true
      },
      "execution_count": 3,
      "outputs": [
        {
          "output_type": "stream",
          "name": "stdout",
          "text": [
            "Requirement already satisfied: einops in /usr/local/lib/python3.11/dist-packages (from -r requirements.txt (line 1)) (0.8.1)\n",
            "Requirement already satisfied: timm==1.0.8 in /usr/local/lib/python3.11/dist-packages (from -r requirements.txt (line 2)) (1.0.8)\n",
            "Requirement already satisfied: medmnist==3.0.1 in /usr/local/lib/python3.11/dist-packages (from -r requirements.txt (line 3)) (3.0.1)\n",
            "Requirement already satisfied: numpy in /usr/local/lib/python3.11/dist-packages (from -r requirements.txt (line 4)) (2.0.2)\n",
            "Requirement already satisfied: pandas in /usr/local/lib/python3.11/dist-packages (from -r requirements.txt (line 5)) (2.2.2)\n",
            "Requirement already satisfied: scikit-learn in /usr/local/lib/python3.11/dist-packages (from -r requirements.txt (line 6)) (1.6.1)\n",
            "Requirement already satisfied: scikit-image in /usr/local/lib/python3.11/dist-packages (from -r requirements.txt (line 7)) (0.25.2)\n",
            "Requirement already satisfied: fvcore in /usr/local/lib/python3.11/dist-packages (from -r requirements.txt (line 8)) (0.1.5.post20221221)\n",
            "Requirement already satisfied: tqdm in /usr/local/lib/python3.11/dist-packages (from -r requirements.txt (line 9)) (4.67.1)\n",
            "Requirement already satisfied: Pillow in /usr/local/lib/python3.11/dist-packages (from -r requirements.txt (line 10)) (11.1.0)\n",
            "Requirement already satisfied: fire in /usr/local/lib/python3.11/dist-packages (from -r requirements.txt (line 11)) (0.7.0)\n",
            "Requirement already satisfied: torchattacks in /usr/local/lib/python3.11/dist-packages (from -r requirements.txt (line 12)) (3.5.1)\n",
            "Requirement already satisfied: torch in /usr/local/lib/python3.11/dist-packages (from -r requirements.txt (line 13)) (2.6.0+cu124)\n",
            "Requirement already satisfied: torchvision in /usr/local/lib/python3.11/dist-packages (from -r requirements.txt (line 14)) (0.21.0+cu124)\n",
            "Requirement already satisfied: pyyaml in /usr/local/lib/python3.11/dist-packages (from timm==1.0.8->-r requirements.txt (line 2)) (6.0.2)\n",
            "Requirement already satisfied: huggingface_hub in /usr/local/lib/python3.11/dist-packages (from timm==1.0.8->-r requirements.txt (line 2)) (0.29.3)\n",
            "Requirement already satisfied: safetensors in /usr/local/lib/python3.11/dist-packages (from timm==1.0.8->-r requirements.txt (line 2)) (0.5.3)\n",
            "Requirement already satisfied: python-dateutil>=2.8.2 in /usr/local/lib/python3.11/dist-packages (from pandas->-r requirements.txt (line 5)) (2.8.2)\n",
            "Requirement already satisfied: pytz>=2020.1 in /usr/local/lib/python3.11/dist-packages (from pandas->-r requirements.txt (line 5)) (2025.1)\n",
            "Requirement already satisfied: tzdata>=2022.7 in /usr/local/lib/python3.11/dist-packages (from pandas->-r requirements.txt (line 5)) (2025.1)\n",
            "Requirement already satisfied: scipy>=1.6.0 in /usr/local/lib/python3.11/dist-packages (from scikit-learn->-r requirements.txt (line 6)) (1.14.1)\n",
            "Requirement already satisfied: joblib>=1.2.0 in /usr/local/lib/python3.11/dist-packages (from scikit-learn->-r requirements.txt (line 6)) (1.4.2)\n",
            "Requirement already satisfied: threadpoolctl>=3.1.0 in /usr/local/lib/python3.11/dist-packages (from scikit-learn->-r requirements.txt (line 6)) (3.6.0)\n",
            "Requirement already satisfied: networkx>=3.0 in /usr/local/lib/python3.11/dist-packages (from scikit-image->-r requirements.txt (line 7)) (3.4.2)\n",
            "Requirement already satisfied: imageio!=2.35.0,>=2.33 in /usr/local/lib/python3.11/dist-packages (from scikit-image->-r requirements.txt (line 7)) (2.37.0)\n",
            "Requirement already satisfied: tifffile>=2022.8.12 in /usr/local/lib/python3.11/dist-packages (from scikit-image->-r requirements.txt (line 7)) (2025.3.13)\n",
            "Requirement already satisfied: packaging>=21 in /usr/local/lib/python3.11/dist-packages (from scikit-image->-r requirements.txt (line 7)) (24.2)\n",
            "Requirement already satisfied: lazy-loader>=0.4 in /usr/local/lib/python3.11/dist-packages (from scikit-image->-r requirements.txt (line 7)) (0.4)\n",
            "Requirement already satisfied: yacs>=0.1.6 in /usr/local/lib/python3.11/dist-packages (from fvcore->-r requirements.txt (line 8)) (0.1.8)\n",
            "Requirement already satisfied: termcolor>=1.1 in /usr/local/lib/python3.11/dist-packages (from fvcore->-r requirements.txt (line 8)) (2.5.0)\n",
            "Requirement already satisfied: tabulate in /usr/local/lib/python3.11/dist-packages (from fvcore->-r requirements.txt (line 8)) (0.9.0)\n",
            "Requirement already satisfied: iopath>=0.1.7 in /usr/local/lib/python3.11/dist-packages (from fvcore->-r requirements.txt (line 8)) (0.1.10)\n",
            "Requirement already satisfied: requests~=2.25.1 in /usr/local/lib/python3.11/dist-packages (from torchattacks->-r requirements.txt (line 12)) (2.25.1)\n",
            "Requirement already satisfied: filelock in /usr/local/lib/python3.11/dist-packages (from torch->-r requirements.txt (line 13)) (3.18.0)\n",
            "Requirement already satisfied: typing-extensions>=4.10.0 in /usr/local/lib/python3.11/dist-packages (from torch->-r requirements.txt (line 13)) (4.12.2)\n",
            "Requirement already satisfied: jinja2 in /usr/local/lib/python3.11/dist-packages (from torch->-r requirements.txt (line 13)) (3.1.6)\n",
            "Requirement already satisfied: fsspec in /usr/local/lib/python3.11/dist-packages (from torch->-r requirements.txt (line 13)) (2025.3.0)\n",
            "Requirement already satisfied: nvidia-cuda-nvrtc-cu12==12.4.127 in /usr/local/lib/python3.11/dist-packages (from torch->-r requirements.txt (line 13)) (12.4.127)\n",
            "Requirement already satisfied: nvidia-cuda-runtime-cu12==12.4.127 in /usr/local/lib/python3.11/dist-packages (from torch->-r requirements.txt (line 13)) (12.4.127)\n",
            "Requirement already satisfied: nvidia-cuda-cupti-cu12==12.4.127 in /usr/local/lib/python3.11/dist-packages (from torch->-r requirements.txt (line 13)) (12.4.127)\n",
            "Requirement already satisfied: nvidia-cudnn-cu12==9.1.0.70 in /usr/local/lib/python3.11/dist-packages (from torch->-r requirements.txt (line 13)) (9.1.0.70)\n",
            "Requirement already satisfied: nvidia-cublas-cu12==12.4.5.8 in /usr/local/lib/python3.11/dist-packages (from torch->-r requirements.txt (line 13)) (12.4.5.8)\n",
            "Requirement already satisfied: nvidia-cufft-cu12==11.2.1.3 in /usr/local/lib/python3.11/dist-packages (from torch->-r requirements.txt (line 13)) (11.2.1.3)\n",
            "Requirement already satisfied: nvidia-curand-cu12==10.3.5.147 in /usr/local/lib/python3.11/dist-packages (from torch->-r requirements.txt (line 13)) (10.3.5.147)\n",
            "Requirement already satisfied: nvidia-cusolver-cu12==11.6.1.9 in /usr/local/lib/python3.11/dist-packages (from torch->-r requirements.txt (line 13)) (11.6.1.9)\n",
            "Requirement already satisfied: nvidia-cusparse-cu12==12.3.1.170 in /usr/local/lib/python3.11/dist-packages (from torch->-r requirements.txt (line 13)) (12.3.1.170)\n",
            "Requirement already satisfied: nvidia-cusparselt-cu12==0.6.2 in /usr/local/lib/python3.11/dist-packages (from torch->-r requirements.txt (line 13)) (0.6.2)\n",
            "Requirement already satisfied: nvidia-nccl-cu12==2.21.5 in /usr/local/lib/python3.11/dist-packages (from torch->-r requirements.txt (line 13)) (2.21.5)\n",
            "Requirement already satisfied: nvidia-nvtx-cu12==12.4.127 in /usr/local/lib/python3.11/dist-packages (from torch->-r requirements.txt (line 13)) (12.4.127)\n",
            "Requirement already satisfied: nvidia-nvjitlink-cu12==12.4.127 in /usr/local/lib/python3.11/dist-packages (from torch->-r requirements.txt (line 13)) (12.4.127)\n",
            "Requirement already satisfied: triton==3.2.0 in /usr/local/lib/python3.11/dist-packages (from torch->-r requirements.txt (line 13)) (3.2.0)\n",
            "Requirement already satisfied: sympy==1.13.1 in /usr/local/lib/python3.11/dist-packages (from torch->-r requirements.txt (line 13)) (1.13.1)\n",
            "Requirement already satisfied: mpmath<1.4,>=1.1.0 in /usr/local/lib/python3.11/dist-packages (from sympy==1.13.1->torch->-r requirements.txt (line 13)) (1.3.0)\n",
            "Requirement already satisfied: portalocker in /usr/local/lib/python3.11/dist-packages (from iopath>=0.1.7->fvcore->-r requirements.txt (line 8)) (3.1.1)\n",
            "Requirement already satisfied: six>=1.5 in /usr/local/lib/python3.11/dist-packages (from python-dateutil>=2.8.2->pandas->-r requirements.txt (line 5)) (1.17.0)\n",
            "Requirement already satisfied: chardet<5,>=3.0.2 in /usr/local/lib/python3.11/dist-packages (from requests~=2.25.1->torchattacks->-r requirements.txt (line 12)) (4.0.0)\n",
            "Requirement already satisfied: idna<3,>=2.5 in /usr/local/lib/python3.11/dist-packages (from requests~=2.25.1->torchattacks->-r requirements.txt (line 12)) (2.10)\n",
            "Requirement already satisfied: urllib3<1.27,>=1.21.1 in /usr/local/lib/python3.11/dist-packages (from requests~=2.25.1->torchattacks->-r requirements.txt (line 12)) (1.26.20)\n",
            "Requirement already satisfied: certifi>=2017.4.17 in /usr/local/lib/python3.11/dist-packages (from requests~=2.25.1->torchattacks->-r requirements.txt (line 12)) (2025.1.31)\n",
            "Requirement already satisfied: MarkupSafe>=2.0 in /usr/local/lib/python3.11/dist-packages (from jinja2->torch->-r requirements.txt (line 13)) (3.0.2)\n"
          ]
        }
      ]
    },
    {
      "cell_type": "code",
      "source": [
        "!pip install timm\n",
        "!pip install einops"
      ],
      "metadata": {
        "collapsed": true,
        "colab": {
          "base_uri": "https://localhost:8080/"
        },
        "id": "nN6DNCvLMz-v",
        "outputId": "b800aa9d-0cd3-4a0c-ee90-f4b8ebd970c3"
      },
      "execution_count": 4,
      "outputs": [
        {
          "output_type": "stream",
          "name": "stdout",
          "text": [
            "Requirement already satisfied: timm in /usr/local/lib/python3.11/dist-packages (1.0.8)\n",
            "Requirement already satisfied: torch in /usr/local/lib/python3.11/dist-packages (from timm) (2.6.0+cu124)\n",
            "Requirement already satisfied: torchvision in /usr/local/lib/python3.11/dist-packages (from timm) (0.21.0+cu124)\n",
            "Requirement already satisfied: pyyaml in /usr/local/lib/python3.11/dist-packages (from timm) (6.0.2)\n",
            "Requirement already satisfied: huggingface_hub in /usr/local/lib/python3.11/dist-packages (from timm) (0.29.3)\n",
            "Requirement already satisfied: safetensors in /usr/local/lib/python3.11/dist-packages (from timm) (0.5.3)\n",
            "Requirement already satisfied: filelock in /usr/local/lib/python3.11/dist-packages (from huggingface_hub->timm) (3.18.0)\n",
            "Requirement already satisfied: fsspec>=2023.5.0 in /usr/local/lib/python3.11/dist-packages (from huggingface_hub->timm) (2025.3.0)\n",
            "Requirement already satisfied: packaging>=20.9 in /usr/local/lib/python3.11/dist-packages (from huggingface_hub->timm) (24.2)\n",
            "Requirement already satisfied: requests in /usr/local/lib/python3.11/dist-packages (from huggingface_hub->timm) (2.25.1)\n",
            "Requirement already satisfied: tqdm>=4.42.1 in /usr/local/lib/python3.11/dist-packages (from huggingface_hub->timm) (4.67.1)\n",
            "Requirement already satisfied: typing-extensions>=3.7.4.3 in /usr/local/lib/python3.11/dist-packages (from huggingface_hub->timm) (4.12.2)\n",
            "Requirement already satisfied: networkx in /usr/local/lib/python3.11/dist-packages (from torch->timm) (3.4.2)\n",
            "Requirement already satisfied: jinja2 in /usr/local/lib/python3.11/dist-packages (from torch->timm) (3.1.6)\n",
            "Requirement already satisfied: nvidia-cuda-nvrtc-cu12==12.4.127 in /usr/local/lib/python3.11/dist-packages (from torch->timm) (12.4.127)\n",
            "Requirement already satisfied: nvidia-cuda-runtime-cu12==12.4.127 in /usr/local/lib/python3.11/dist-packages (from torch->timm) (12.4.127)\n",
            "Requirement already satisfied: nvidia-cuda-cupti-cu12==12.4.127 in /usr/local/lib/python3.11/dist-packages (from torch->timm) (12.4.127)\n",
            "Requirement already satisfied: nvidia-cudnn-cu12==9.1.0.70 in /usr/local/lib/python3.11/dist-packages (from torch->timm) (9.1.0.70)\n",
            "Requirement already satisfied: nvidia-cublas-cu12==12.4.5.8 in /usr/local/lib/python3.11/dist-packages (from torch->timm) (12.4.5.8)\n",
            "Requirement already satisfied: nvidia-cufft-cu12==11.2.1.3 in /usr/local/lib/python3.11/dist-packages (from torch->timm) (11.2.1.3)\n",
            "Requirement already satisfied: nvidia-curand-cu12==10.3.5.147 in /usr/local/lib/python3.11/dist-packages (from torch->timm) (10.3.5.147)\n",
            "Requirement already satisfied: nvidia-cusolver-cu12==11.6.1.9 in /usr/local/lib/python3.11/dist-packages (from torch->timm) (11.6.1.9)\n",
            "Requirement already satisfied: nvidia-cusparse-cu12==12.3.1.170 in /usr/local/lib/python3.11/dist-packages (from torch->timm) (12.3.1.170)\n",
            "Requirement already satisfied: nvidia-cusparselt-cu12==0.6.2 in /usr/local/lib/python3.11/dist-packages (from torch->timm) (0.6.2)\n",
            "Requirement already satisfied: nvidia-nccl-cu12==2.21.5 in /usr/local/lib/python3.11/dist-packages (from torch->timm) (2.21.5)\n",
            "Requirement already satisfied: nvidia-nvtx-cu12==12.4.127 in /usr/local/lib/python3.11/dist-packages (from torch->timm) (12.4.127)\n",
            "Requirement already satisfied: nvidia-nvjitlink-cu12==12.4.127 in /usr/local/lib/python3.11/dist-packages (from torch->timm) (12.4.127)\n",
            "Requirement already satisfied: triton==3.2.0 in /usr/local/lib/python3.11/dist-packages (from torch->timm) (3.2.0)\n",
            "Requirement already satisfied: sympy==1.13.1 in /usr/local/lib/python3.11/dist-packages (from torch->timm) (1.13.1)\n",
            "Requirement already satisfied: mpmath<1.4,>=1.1.0 in /usr/local/lib/python3.11/dist-packages (from sympy==1.13.1->torch->timm) (1.3.0)\n",
            "Requirement already satisfied: numpy in /usr/local/lib/python3.11/dist-packages (from torchvision->timm) (2.0.2)\n",
            "Requirement already satisfied: pillow!=8.3.*,>=5.3.0 in /usr/local/lib/python3.11/dist-packages (from torchvision->timm) (11.1.0)\n",
            "Requirement already satisfied: MarkupSafe>=2.0 in /usr/local/lib/python3.11/dist-packages (from jinja2->torch->timm) (3.0.2)\n",
            "Requirement already satisfied: chardet<5,>=3.0.2 in /usr/local/lib/python3.11/dist-packages (from requests->huggingface_hub->timm) (4.0.0)\n",
            "Requirement already satisfied: idna<3,>=2.5 in /usr/local/lib/python3.11/dist-packages (from requests->huggingface_hub->timm) (2.10)\n",
            "Requirement already satisfied: urllib3<1.27,>=1.21.1 in /usr/local/lib/python3.11/dist-packages (from requests->huggingface_hub->timm) (1.26.20)\n",
            "Requirement already satisfied: certifi>=2017.4.17 in /usr/local/lib/python3.11/dist-packages (from requests->huggingface_hub->timm) (2025.1.31)\n",
            "Requirement already satisfied: einops in /usr/local/lib/python3.11/dist-packages (0.8.1)\n"
          ]
        }
      ]
    },
    {
      "cell_type": "code",
      "source": [
        "import os\n",
        "import nibabel as nib  # Library for handling NIfTI files\n",
        "import pandas as pd\n",
        "import torch\n",
        "import torch.nn as nn\n",
        "import torch.nn.functional as F\n",
        "from torchvision import datasets, transforms\n",
        "from torch.utils.data import DataLoader\n",
        "import matplotlib.pyplot as plt\n",
        "import numpy as np\n",
        "from sklearn.metrics import f1_score\n",
        "from torch.utils.data import random_split\n",
        "from torch.utils.data import Dataset\n",
        "from pydicom import dcmread\n",
        "import pylibjpeg\n",
        "from PIL import Image\n",
        "\n",
        "device = torch.device(\"cuda\" if torch.cuda.is_available() else \"cpu\")"
      ],
      "metadata": {
        "id": "DXGMm1W8EOhe"
      },
      "execution_count": 5,
      "outputs": []
    },
    {
      "cell_type": "code",
      "execution_count": 6,
      "metadata": {
        "colab": {
          "base_uri": "https://localhost:8080/"
        },
        "id": "kzF6v5XxB58h",
        "outputId": "572c788b-dc29-4a0e-a33b-02f14a43632e",
        "collapsed": true
      },
      "outputs": [
        {
          "output_type": "stream",
          "name": "stdout",
          "text": [
            "Fri Mar 21 19:17:10 2025       \n",
            "+-----------------------------------------------------------------------------------------+\n",
            "| NVIDIA-SMI 550.54.15              Driver Version: 550.54.15      CUDA Version: 12.4     |\n",
            "|-----------------------------------------+------------------------+----------------------+\n",
            "| GPU  Name                 Persistence-M | Bus-Id          Disp.A | Volatile Uncorr. ECC |\n",
            "| Fan  Temp   Perf          Pwr:Usage/Cap |           Memory-Usage | GPU-Util  Compute M. |\n",
            "|                                         |                        |               MIG M. |\n",
            "|=========================================+========================+======================|\n",
            "|   0  NVIDIA A100-SXM4-40GB          Off |   00000000:00:04.0 Off |                    0 |\n",
            "| N/A   36C    P0             48W /  400W |       5MiB /  40960MiB |      0%      Default |\n",
            "|                                         |                        |             Disabled |\n",
            "+-----------------------------------------+------------------------+----------------------+\n",
            "                                                                                         \n",
            "+-----------------------------------------------------------------------------------------+\n",
            "| Processes:                                                                              |\n",
            "|  GPU   GI   CI        PID   Type   Process name                              GPU Memory |\n",
            "|        ID   ID                                                               Usage      |\n",
            "|=========================================================================================|\n",
            "|  No running processes found                                                             |\n",
            "+-----------------------------------------------------------------------------------------+\n"
          ]
        }
      ],
      "source": [
        "!nvidia-smi"
      ]
    },
    {
      "cell_type": "code",
      "source": [
        "import os\n",
        "import sys\n",
        "import numpy as np\n",
        "import matplotlib.pyplot as plt\n",
        "%matplotlib inline\n",
        "\n",
        "import torch\n",
        "import torch.nn as nn\n",
        "import torch.optim as optim\n",
        "import torch.utils.data as data\n",
        "\n",
        "import torchvision.utils\n",
        "from torchvision import models\n",
        "import torchvision.datasets as dsets\n",
        "import torchvision.transforms as transforms\n",
        "from torchsummary import summary\n",
        "\n",
        "from tqdm import tqdm\n",
        "import medmnist\n",
        "from medmnist import INFO, Evaluator\n",
        "from torch.utils.data import Dataset\n",
        "\n",
        "import torchattacks\n",
        "from torchattacks import PGD, FGSM"
      ],
      "metadata": {
        "id": "-lkGp85KCd8R"
      },
      "execution_count": 7,
      "outputs": []
    },
    {
      "cell_type": "code",
      "source": [
        "\n",
        "print(\"PyTorch\", torch.__version__)\n",
        "print(\"Torchvision\", torchvision.__version__)\n",
        "print(\"Torchattacks\", torchattacks.__version__)\n",
        "print(\"Numpy\", np.__version__)\n",
        "print(\"Medmnist\", medmnist.__version__)"
      ],
      "metadata": {
        "colab": {
          "base_uri": "https://localhost:8080/"
        },
        "id": "BTuaT1dECjw9",
        "outputId": "56b99ed7-3f53-40bf-b829-9281092d9619"
      },
      "execution_count": 8,
      "outputs": [
        {
          "output_type": "stream",
          "name": "stdout",
          "text": [
            "PyTorch 2.6.0+cu124\n",
            "Torchvision 0.21.0+cu124\n",
            "Torchattacks 3.5.1\n",
            "Numpy 2.0.2\n",
            "Medmnist 3.0.1\n"
          ]
        }
      ]
    },
    {
      "cell_type": "code",
      "source": [
        "class DICOMDataset(Dataset):\n",
        "    def __init__(self, stroke_folder, no_stroke_folder, hemo_stroke_folder, transform=None):\n",
        "        \"\"\"\n",
        "        Args:\n",
        "            stroke_folder (string): Path to the folder containing stroke images.\n",
        "            no_stroke_folder (string): Path to the folder containing non-stroke images.\n",
        "            transform (callable, optional): Optional transform to be applied on a sample.\n",
        "        \"\"\"\n",
        "        self.stroke_folder = stroke_folder\n",
        "        self.hemo_stroke_folder = hemo_stroke_folder\n",
        "        self.no_stroke_folder = no_stroke_folder\n",
        "        self.transform = transform\n",
        "\n",
        "        self.image_paths = []\n",
        "        self.labels = []\n",
        "\n",
        "\n",
        "        for filename in os.listdir(self.stroke_folder):\n",
        "            if filename.endswith(\".dcm\"):\n",
        "                self.image_paths.append(os.path.join(self.stroke_folder, filename))\n",
        "                self.labels.append(1)  # 1 for stroke\n",
        "\n",
        "        for filename in os.listdir(self.hemo_stroke_folder):\n",
        "            if filename.endswith(\".dcm\"):\n",
        "                self.image_paths.append(os.path.join(self.hemo_stroke_folder, filename))\n",
        "                self.labels.append(1)  # 1 for stroke\n",
        "\n",
        "        for filename in os.listdir(self.no_stroke_folder):\n",
        "            if filename.endswith(\".dcm\"):\n",
        "                self.image_paths.append(os.path.join(self.no_stroke_folder, filename))\n",
        "                self.labels.append(0)\n",
        "\n",
        "    def __len__(self):\n",
        "        return len(self.image_paths)\n",
        "\n",
        "    def __getitem__(self, idx):\n",
        "        dicom_path = self.image_paths[idx]\n",
        "        dicom_data = dcmread(dicom_path)\n",
        "\n",
        "        image = dicom_data.pixel_array\n",
        "\n",
        "        image = image.astype(np.float32)\n",
        "        image = Image.fromarray(image)\n",
        "\n",
        "        if self.transform:\n",
        "            image = self.transform(image)\n",
        "\n",
        "        label = self.labels[idx]\n",
        "\n",
        "        return image, label\n"
      ],
      "metadata": {
        "id": "J3AS--SbD9hO"
      },
      "execution_count": 9,
      "outputs": []
    },
    {
      "cell_type": "code",
      "source": [
        "def create_dataloader(stroke_folder, no_stroke_folder, hemo_stroke_folder, batch_size=32, val_split=0.2, test_split=0.1, transform=None):\n",
        "    # Initialize the dataset\n",
        "    dataset = DICOMDataset(stroke_folder, no_stroke_folder,hemo_stroke_folder, transform=transform)\n",
        "\n",
        "    # Calculate split sizes\n",
        "    total_size = len(dataset)\n",
        "    test_size = int(test_split * total_size)\n",
        "    val_size = int(val_split * total_size)\n",
        "    train_size = total_size - val_size - test_size\n",
        "\n",
        "    # Split the dataset\n",
        "    train_dataset, val_dataset, test_dataset = random_split(dataset, [train_size, val_size, test_size])\n",
        "\n",
        "    # Create DataLoaders for each dataset\n",
        "    train_loader = DataLoader(train_dataset, batch_size=batch_size, shuffle=True)\n",
        "    val_loader = DataLoader(val_dataset, batch_size=batch_size, shuffle=True)\n",
        "    test_loader = DataLoader(test_dataset, batch_size=batch_size, shuffle=True)\n",
        "\n",
        "    return train_loader, val_loader, test_loader\n",
        "\n",
        "# Define the transformation\n",
        "transform = transforms.Compose([\n",
        "    transforms.Resize((224, 224)),\n",
        "    transforms.ToTensor(),\n",
        "    transforms.RandomHorizontalFlip(),\n",
        "    transforms.RandomRotation(10),\n",
        "    #transforms.ColorJitter(brightness=0.2, contrast=0.2),\n",
        "    #transforms.Normalize(mean=[.5], std=[.5])\n",
        "])\n",
        "\n",
        "# Set paths to your DICOM folders\n",
        "stroke_folder = '/content/drive/MyDrive/Colab Notebooks/datasets/processed tkn /output_stroke'\n",
        "no_stroke_folder = '/content/drive/MyDrive/Colab Notebooks/datasets/processed tkn /output_no_stroke'\n",
        "hemo_stroke_folder = '/content/drive/MyDrive/Colab Notebooks/datasets/processed tkn /output_hemo'\n",
        "\n",
        "# Create DataLoaders\n",
        "train_loader, val_loader, test_loader = create_dataloader(stroke_folder, no_stroke_folder, hemo_stroke_folder, batch_size=32, val_split=0.2, test_split=0.1, transform=transform)\n",
        "\n"
      ],
      "metadata": {
        "id": "a4R55ZWmD-Yz"
      },
      "execution_count": 91,
      "outputs": []
    },
    {
      "cell_type": "code",
      "source": [
        "# Example: Fetch one sample from the training dataset and display it\n",
        "for images, labels in train_loader:\n",
        "    # Take the first image from the batch\n",
        "\n",
        "    image = images[0].numpy().transpose(1, 2, 0)  # Convert from CHW to HWC format for display\n",
        "    print(image.shape)\n",
        "    # Plot the image\n",
        "    plt.imshow(image, cmap='gray')\n",
        "    plt.title(f\"Sample Image from Training Data - Label: {labels[0].item()}\")\n",
        "    plt.axis('off')  # Hide the axis\n",
        "    plt.show()\n",
        "    break  # Stop after plotting one image"
      ],
      "metadata": {
        "id": "IylOn-UaFT2E",
        "colab": {
          "base_uri": "https://localhost:8080/",
          "height": 445
        },
        "outputId": "523473e3-3a78-44ef-938b-98a6ceb82f0c"
      },
      "execution_count": 92,
      "outputs": [
        {
          "output_type": "stream",
          "name": "stdout",
          "text": [
            "(224, 224, 1)\n"
          ]
        },
        {
          "output_type": "display_data",
          "data": {
            "text/plain": [
              "<Figure size 640x480 with 1 Axes>"
            ],
            "image/png": "[encoded data removed]"
          },
          "metadata": {}
        }
      ]
    },
    {
      "cell_type": "code",
      "source": [
        "import torch, gc\n",
        "\n",
        "gc.collect()\n",
        "torch.cuda.empty_cache()\n",
        "torch.cuda.ipc_collect()\n"
      ],
      "metadata": {
        "id": "i2x01P3wIon4"
      },
      "execution_count": 93,
      "outputs": []
    },
    {
      "cell_type": "code",
      "source": [
        "cd /content/MedViT"
      ],
      "metadata": {
        "colab": {
          "base_uri": "https://localhost:8080/"
        },
        "id": "d8jBx2h0JJy8",
        "outputId": "02ab8184-3147-4fc3-90a5-8341552309f4"
      },
      "execution_count": 94,
      "outputs": [
        {
          "output_type": "stream",
          "name": "stdout",
          "text": [
            "/content/MedViT\n"
          ]
        }
      ]
    },
    {
      "cell_type": "code",
      "source": [
        "from MedViT import MedViT_small, MedViT_base, MedViT_large, ConvBNReLU\n",
        "\n",
        "#model = MedViT_small(num_classes = 1000).cuda()\n",
        "#model = MedViT_base(num_classes = n_classes).cuda()\n",
        "#model = MedViT_large(pretrained=False, attn_drop=0, drop=0, head_dim=32, mix_block_ratio=0.75, num_classes = 1000).cuda()\n",
        "model = MedViT_large(num_classes = 1000).cuda()"
      ],
      "metadata": {
        "colab": {
          "base_uri": "https://localhost:8080/"
        },
        "id": "McUEL08_FkCm",
        "outputId": "0e90e915-8cc1-4660-ec06-cefd5c06b819"
      },
      "execution_count": 95,
      "outputs": [
        {
          "output_type": "stream",
          "name": "stdout",
          "text": [
            "initialize_weights...\n"
          ]
        }
      ]
    },
    {
      "cell_type": "code",
      "source": [
        "# Load checkpoint (adjust path to your downloaded checkpoint)\n",
        "checkpoint_path = \"/content/drive/MyDrive/Colab Notebooks/models/MedViT_large_im1k.pth\"\n",
        "checkpoint = torch.load(checkpoint_path, map_location=device)\n",
        "\n",
        "# Remove 'module.' prefix in case of DataParallel models\n",
        "checkpoint = {k.replace('module.', ''): v for k, v in checkpoint['model'].items()}\n",
        "\n",
        "model.load_state_dict(checkpoint, strict=True)"
      ],
      "metadata": {
        "colab": {
          "base_uri": "https://localhost:8080/"
        },
        "id": "RKxVY6U6_U3J",
        "outputId": "75732990-8206-43e3-83d3-90285fe89fc0"
      },
      "execution_count": 96,
      "outputs": [
        {
          "output_type": "execute_result",
          "data": {
            "text/plain": [
              "<All keys matched successfully>"
            ]
          },
          "metadata": {},
          "execution_count": 96
        }
      ]
    },
    {
      "cell_type": "code",
      "source": [
        "if isinstance(model.stem[0], ConvBNReLU):\n",
        "    old_conv = model.stem[0].conv  # Get the first convolutional layer\n",
        "\n",
        "    # Create a new convolution layer with 1 input channel\n",
        "    new_conv = nn.Conv2d(\n",
        "        in_channels=1,  # Change from 3 to 1\n",
        "        out_channels=old_conv.out_channels,\n",
        "        kernel_size=old_conv.kernel_size,\n",
        "        stride=old_conv.stride,\n",
        "        padding=old_conv.padding,\n",
        "        groups=old_conv.groups,\n",
        "        bias=old_conv.bias is not None\n",
        "    )\n",
        "\n",
        "    # Initialize new weights by averaging the original 3-channel weights\n",
        "    new_conv.weight = nn.Parameter(old_conv.weight.mean(dim=1, keepdim=True))\n",
        "\n",
        "    # Replace the original convolutional layer\n",
        "    model.stem[0].conv = new_conv\n",
        "\n",
        "# Move model to GPU if available\n",
        "device = torch.device(\"cuda\" if torch.cuda.is_available() else \"cpu\")\n",
        "model = model.to(device)"
      ],
      "metadata": {
        "id": "xZ4GOHur3Z2S"
      },
      "execution_count": 97,
      "outputs": []
    },
    {
      "cell_type": "code",
      "source": [
        "model.proj_head = nn.Sequential(\n",
        "    nn.Linear(model.proj_head[0].in_features, 2)\n",
        ")"
      ],
      "metadata": {
        "id": "fCk-UxGS_sn5"
      },
      "execution_count": 98,
      "outputs": []
    },
    {
      "cell_type": "code",
      "source": [
        "model.proj_head[0]"
      ],
      "metadata": {
        "colab": {
          "base_uri": "https://localhost:8080/"
        },
        "id": "aBWUoE0d6d_Y",
        "outputId": "c0a11077-0d8f-4eaa-aa4c-247593053338"
      },
      "execution_count": 99,
      "outputs": [
        {
          "output_type": "execute_result",
          "data": {
            "text/plain": [
              "Linear(in_features=1024, out_features=2, bias=True)"
            ]
          },
          "metadata": {},
          "execution_count": 99
        }
      ]
    },
    {
      "cell_type": "code",
      "source": [
        "# Initialize the classification layer\n",
        "nn.init.xavier_uniform_(model.proj_head[0].weight)\n",
        "nn.init.zeros_(model.proj_head[0].bias)"
      ],
      "metadata": {
        "colab": {
          "base_uri": "https://localhost:8080/"
        },
        "id": "r7wgvmex9Z1W",
        "outputId": "746bb49f-695a-4387-c8af-8bd695c684c1"
      },
      "execution_count": 100,
      "outputs": [
        {
          "output_type": "execute_result",
          "data": {
            "text/plain": [
              "Parameter containing:\n",
              "tensor([0., 0.], requires_grad=True)"
            ]
          },
          "metadata": {},
          "execution_count": 100
        }
      ]
    },
    {
      "cell_type": "code",
      "source": [
        "for name, param in model.named_parameters():\n",
        "    if param.device != device:\n",
        "        param.data = param.data.to(device)\n",
        "        if param.grad is not None:\n",
        "            param.grad = param.grad.to(device)"
      ],
      "metadata": {
        "collapsed": true,
        "id": "kxSlZT9BAfGs"
      },
      "execution_count": 101,
      "outputs": []
    },
    {
      "cell_type": "code",
      "source": [
        "def train_model(model: nn.Module, train_loader: DataLoader, val_loader: DataLoader,\n",
        "                epochs: int = 10, learning_rate: float = 0.005, save_path: str = 'vit_mnist.pth') -> (list, list):\n",
        "    \"\"\"\n",
        "    Trains the model and evaluates it on the validation set after each epoch.\n",
        "\n",
        "    Parameters:\n",
        "        model (nn.Module): The neural network model to train.\n",
        "        train_loader (DataLoader): DataLoader for the training dataset.\n",
        "        val_loader (DataLoader): DataLoader for the validation dataset.\n",
        "        epochs (int): The number of epochs to train the model.\n",
        "        learning_rate (float): The learning rate for the optimizer.\n",
        "        save_path (str): Path to save the trained model state.\n",
        "\n",
        "    Returns:\n",
        "        train_losses (tuple): A tuple containing lists of training losses per epoch.\n",
        "        val_losses (tuple): A tuple containing lists of validation losses per epoch.\n",
        "    \"\"\"\n",
        "    #optimizer = optim.AdamW(model.parameters(), lr=learning_rate, betas=[0.9, 0.999], weight_decay=0.05)\n",
        "    optimizer = torch.optim.Adam(model.parameters(), lr=learning_rate)\n",
        "\n",
        "    criterion = nn.CrossEntropyLoss()\n",
        "    scheduler = torch.optim.lr_scheduler.StepLR(optimizer, step_size=5, gamma=0.1)\n",
        "    #scheduler = optim.lr_scheduler.CosineAnnealingLR(optimizer, T_max=epochs, eta_min=5e-6)\n",
        "\n",
        "    train_losses = []\n",
        "    val_losses = []\n",
        "\n",
        "    for epoch in range(epochs):\n",
        "        model.train()  # Set model to training mode\n",
        "        train_loss = 0.0\n",
        "\n",
        "        # Training loop\n",
        "        for data, target in train_loader:\n",
        "            data, target = data.to(device), target.to(device)\n",
        "            optimizer.zero_grad()  # Zero the parameter gradients\n",
        "            output = model(data)  # Forward pass\n",
        "            loss = criterion(output, target)  # Loss calculation\n",
        "            loss.backward()  # Backward pass (backpropagation)\n",
        "            optimizer.step()  # Optimize model parameters\n",
        "            train_loss += loss.item()\n",
        "\n",
        "        # Store average training loss\n",
        "        train_losses.append(train_loss / len(train_loader))\n",
        "\n",
        "        # Validation loop\n",
        "        val_loss = 0.0\n",
        "        model.eval()  # Set model to evaluation mode\n",
        "        with torch.no_grad():\n",
        "            for data, target in val_loader:\n",
        "                data, target = data.to(device), target.to(device)\n",
        "                output = model(data)\n",
        "                val_loss += criterion(output, target).item()\n",
        "\n",
        "        # Store average validation loss\n",
        "        val_losses.append(val_loss / len(val_loader))\n",
        "\n",
        "        # Print epoch summary\n",
        "        print(f'Epoch {epoch + 1}/{epochs}, Train Loss: {train_losses[-1]:.4f}, Val Loss: {val_losses[-1]:.4f}')\n",
        "\n",
        "        scheduler.step()  # Adjust learning rate\n",
        "\n",
        "    # Save the trained model state\n",
        "    torch.save(model.state_dict(), save_path)\n",
        "\n",
        "    # Plot training and validation losses\n",
        "    plt.figure(figsize=(10, 4))\n",
        "    plt.plot(train_losses, label='Training Loss')\n",
        "    plt.plot(val_losses, label='Validation Loss')\n",
        "    plt.title('Training and Validation Loss')\n",
        "    plt.xlabel('Epochs')\n",
        "    plt.ylabel('Loss')\n",
        "    plt.legend()\n",
        "    plt.show()\n",
        "\n",
        "    return train_losses, val_losses\n"
      ],
      "metadata": {
        "id": "P0RLBW9bnvUn"
      },
      "execution_count": 102,
      "outputs": []
    },
    {
      "cell_type": "code",
      "source": [
        "train_model(model, train_loader, val_loader, epochs=50, learning_rate=0.001)"
      ],
      "metadata": {
        "colab": {
          "base_uri": "https://localhost:8080/",
          "height": 1000
        },
        "id": "k5tHhbgxH6Xc",
        "outputId": "ea8849cc-4386-41fe-89e5-f5e303c79e0f"
      },
      "execution_count": 103,
      "outputs": [
        {
          "output_type": "stream",
          "name": "stdout",
          "text": [
            "Epoch 1/50, Train Loss: 0.5993, Val Loss: 0.7107\n",
            "Epoch 2/50, Train Loss: 0.3611, Val Loss: 0.4184\n",
            "Epoch 3/50, Train Loss: 0.3497, Val Loss: 0.7935\n",
            "Epoch 4/50, Train Loss: 0.3324, Val Loss: 0.7457\n",
            "Epoch 5/50, Train Loss: 0.3073, Val Loss: 0.3339\n",
            "Epoch 6/50, Train Loss: 0.2290, Val Loss: 0.2234\n",
            "Epoch 7/50, Train Loss: 0.2178, Val Loss: 0.2003\n",
            "Epoch 8/50, Train Loss: 0.1805, Val Loss: 0.2346\n",
            "Epoch 9/50, Train Loss: 0.1685, Val Loss: 0.1982\n",
            "Epoch 10/50, Train Loss: 0.1802, Val Loss: 0.2032\n",
            "Epoch 11/50, Train Loss: 0.1557, Val Loss: 0.1855\n",
            "Epoch 12/50, Train Loss: 0.1483, Val Loss: 0.1846\n",
            "Epoch 13/50, Train Loss: 0.1467, Val Loss: 0.1808\n",
            "Epoch 14/50, Train Loss: 0.1436, Val Loss: 0.1872\n",
            "Epoch 15/50, Train Loss: 0.1319, Val Loss: 0.1969\n",
            "Epoch 16/50, Train Loss: 0.1304, Val Loss: 0.1884\n",
            "Epoch 17/50, Train Loss: 0.1264, Val Loss: 0.1916\n",
            "Epoch 18/50, Train Loss: 0.1296, Val Loss: 0.1958\n",
            "Epoch 19/50, Train Loss: 0.1292, Val Loss: 0.1910\n",
            "Epoch 20/50, Train Loss: 0.1265, Val Loss: 0.1918\n",
            "Epoch 21/50, Train Loss: 0.1329, Val Loss: 0.1846\n",
            "Epoch 22/50, Train Loss: 0.1298, Val Loss: 0.1847\n",
            "Epoch 23/50, Train Loss: 0.1301, Val Loss: 0.1904\n",
            "Epoch 24/50, Train Loss: 0.1291, Val Loss: 0.1967\n",
            "Epoch 25/50, Train Loss: 0.1309, Val Loss: 0.1897\n",
            "Epoch 26/50, Train Loss: 0.1252, Val Loss: 0.1939\n",
            "Epoch 27/50, Train Loss: 0.1323, Val Loss: 0.1810\n",
            "Epoch 28/50, Train Loss: 0.1272, Val Loss: 0.1893\n",
            "Epoch 29/50, Train Loss: 0.1361, Val Loss: 0.1986\n",
            "Epoch 30/50, Train Loss: 0.1280, Val Loss: 0.1855\n",
            "Epoch 31/50, Train Loss: 0.1293, Val Loss: 0.1829\n",
            "Epoch 32/50, Train Loss: 0.1230, Val Loss: 0.1882\n",
            "Epoch 33/50, Train Loss: 0.1304, Val Loss: 0.2099\n",
            "Epoch 34/50, Train Loss: 0.1282, Val Loss: 0.2014\n",
            "Epoch 35/50, Train Loss: 0.1282, Val Loss: 0.1891\n",
            "Epoch 36/50, Train Loss: 0.1309, Val Loss: 0.1814\n",
            "Epoch 37/50, Train Loss: 0.1289, Val Loss: 0.1937\n",
            "Epoch 38/50, Train Loss: 0.1214, Val Loss: 0.2020\n",
            "Epoch 39/50, Train Loss: 0.1301, Val Loss: 0.1818\n",
            "Epoch 40/50, Train Loss: 0.1322, Val Loss: 0.1792\n",
            "Epoch 41/50, Train Loss: 0.1295, Val Loss: 0.1845\n",
            "Epoch 42/50, Train Loss: 0.1293, Val Loss: 0.1860\n",
            "Epoch 43/50, Train Loss: 0.1323, Val Loss: 0.1960\n",
            "Epoch 44/50, Train Loss: 0.1326, Val Loss: 0.1793\n",
            "Epoch 45/50, Train Loss: 0.1362, Val Loss: 0.1783\n",
            "Epoch 46/50, Train Loss: 0.1272, Val Loss: 0.2043\n",
            "Epoch 47/50, Train Loss: 0.1240, Val Loss: 0.1892\n",
            "Epoch 48/50, Train Loss: 0.1238, Val Loss: 0.1766\n",
            "Epoch 49/50, Train Loss: 0.1261, Val Loss: 0.1925\n",
            "Epoch 50/50, Train Loss: 0.1291, Val Loss: 0.1844\n"
          ]
        },
        {
          "output_type": "display_data",
          "data": {
            "text/plain": [
              "<Figure size 1000x400 with 1 Axes>"
            ],
            "image/png": "[encoded data removed]"
          },
          "metadata": {}
        },
        {
          "output_type": "execute_result",
          "data": {
            "text/plain": [
              "([0.5992694786966664,\n",
              "  0.3611256151574932,\n",
              "  0.3496600306809765,\n",
              "  0.33237677062415094,\n",
              "  0.3073191196747022,\n",
              "  0.22904446251588326,\n",
              "  0.21775319230781026,\n",
              "  0.18051715141596042,\n",
              "  0.16853474453091621,\n",
              "  0.1802046960219741,\n",
              "  0.15570872611276906,\n",
              "  0.14829613880751885,\n",
              "  0.14669980481904868,\n",
              "  0.14356574546290587,\n",
              "  0.13187492733234413,\n",
              "  0.13038703169010274,\n",
              "  0.12636259648540657,\n",
              "  0.1296007463274753,\n",
              "  0.12915146080394313,\n",
              "  0.12650145383628264,\n",
              "  0.13287199536108807,\n",
              "  0.1298062750840024,\n",
              "  0.13010348135937158,\n",
              "  0.12909891555876765,\n",
              "  0.13091198553981848,\n",
              "  0.12524075001120977,\n",
              "  0.13232109773495834,\n",
              "  0.12723415342401967,\n",
              "  0.13609505449868228,\n",
              "  0.12799869035051703,\n",
              "  0.1292904459118639,\n",
              "  0.12300289399309518,\n",
              "  0.13044695918486543,\n",
              "  0.1281797410537527,\n",
              "  0.12815136550479148,\n",
              "  0.13089425980483424,\n",
              "  0.1289114082193844,\n",
              "  0.12135139703495454,\n",
              "  0.1300968171850051,\n",
              "  0.13217020393285442,\n",
              "  0.12952512996398832,\n",
              "  0.1293410699725253,\n",
              "  0.1322741283563106,\n",
              "  0.13263469442010742,\n",
              "  0.13621221994343277,\n",
              "  0.12718326445311717,\n",
              "  0.12401334988591198,\n",
              "  0.12383081077291846,\n",
              "  0.12612514064506922,\n",
              "  0.12907420808117684],\n",
              " [0.7106532695747557,\n",
              "  0.41836921374003094,\n",
              "  0.793452534647215,\n",
              "  0.7457125875211897,\n",
              "  0.33390095581610996,\n",
              "  0.22338899766050635,\n",
              "  0.20025284721383027,\n",
              "  0.23462874939044318,\n",
              "  0.19823009862254062,\n",
              "  0.2032026689322222,\n",
              "  0.18551821141902888,\n",
              "  0.1846115538362591,\n",
              "  0.18076170324569657,\n",
              "  0.18720269655542715,\n",
              "  0.19685085106729752,\n",
              "  0.18835256949421905,\n",
              "  0.19157590131674493,\n",
              "  0.19576401826703832,\n",
              "  0.19097964993367592,\n",
              "  0.19176533494499468,\n",
              "  0.18461322709031047,\n",
              "  0.18474923562081086,\n",
              "  0.19040058052078598,\n",
              "  0.19668147420244558,\n",
              "  0.18973653497440474,\n",
              "  0.19387638914797986,\n",
              "  0.1810096955104243,\n",
              "  0.18933381889725015,\n",
              "  0.19862782449594565,\n",
              "  0.18549751344003848,\n",
              "  0.18292641661883818,\n",
              "  0.18815031749684186,\n",
              "  0.20993942248501948,\n",
              "  0.20139066826197363,\n",
              "  0.1891370632996162,\n",
              "  0.1813852366592203,\n",
              "  0.1936877711809107,\n",
              "  0.20195672865070047,\n",
              "  0.18175009385283505,\n",
              "  0.17920618127321913,\n",
              "  0.18448272223273912,\n",
              "  0.18602007818186567,\n",
              "  0.19597121833690576,\n",
              "  0.1792552083553303,\n",
              "  0.17832929955884105,\n",
              "  0.20431531564376892,\n",
              "  0.18915774917141312,\n",
              "  0.17660852530527682,\n",
              "  0.19249264718521208,\n",
              "  0.18441015251335643])"
            ]
          },
          "metadata": {},
          "execution_count": 103
        }
      ]
    },
    {
      "cell_type": "code",
      "source": [
        "images, labels = next(iter(train_loader))\n",
        "# Getting the size of the first image in the batch\n",
        "get_image_size = images[0].size()\n",
        "print(get_image_size)\n",
        "# Getting the number of classes\n",
        "unique_labels = set()\n",
        "for _, labels in train_loader:\n",
        "    unique_labels.update(labels.tolist())\n",
        "\n",
        "get_num_classes = len(unique_labels)\n",
        "print(get_num_classes)"
      ],
      "metadata": {
        "id": "pFw1fVCOnvQ3",
        "collapsed": true
      },
      "execution_count": null,
      "outputs": []
    },
    {
      "cell_type": "code",
      "source": [
        "from torchsummary import summary\n",
        "summary(model, input_size=(get_image_size[0], get_image_size[1], get_image_size[2]))"
      ],
      "metadata": {
        "collapsed": true,
        "id": "dZT9vHnyn5n1"
      },
      "execution_count": null,
      "outputs": []
    },
    {
      "cell_type": "code",
      "source": [
        "def test_model(model: nn.Module, test_loader: DataLoader, load_path: str = 'vit_mnist.pth') -> None:\n",
        "    \"\"\"\n",
        "    Evaluates the model on the test dataset.\n",
        "\n",
        "    Parameters:\n",
        "        model (nn.Module): The neural network model to be evaluated.\n",
        "        test_loader (DataLoader): DataLoader for the test dataset.\n",
        "        load_path (str): Path to the file from which the model state is loaded.\n",
        "    \"\"\"\n",
        "    # Load the saved model state\n",
        "    model.load_state_dict(torch.load(load_path, map_location=device))  # Ensure model loads to the correct device\n",
        "    model.eval()  # Set the model to evaluation mode\n",
        "\n",
        "    test_loss = 0\n",
        "    correct = 0\n",
        "    all_preds = []\n",
        "    all_targets = []\n",
        "    criterion = nn.CrossEntropyLoss()\n",
        "\n",
        "    with torch.no_grad():  # No gradient calculation for inference\n",
        "        for data, target in test_loader:\n",
        "            # Move data and target to the same device as the model\n",
        "            data, target = data.to(device), target.to(device)\n",
        "\n",
        "            # Forward pass and loss calculation\n",
        "            output = model(data)\n",
        "            test_loss += criterion(output, target).item()\n",
        "\n",
        "            # Prediction and accuracy calculation\n",
        "            pred = output.argmax(dim=1, keepdim=False)  # `pred` will have the same batch size as `target`\n",
        "            correct += pred.eq(target).sum().item()\n",
        "\n",
        "            # Storing all predictions and targets for F1 score calculation\n",
        "            all_preds.extend(pred.cpu().tolist())  # Convert to list and extend\n",
        "            all_targets.extend(target.cpu().tolist())  # Convert to list and extend\n",
        "\n",
        "    # Calculate average test loss and accuracy\n",
        "    test_loss /= len(test_loader)\n",
        "    accuracy = correct / len(test_loader.dataset)\n",
        "\n",
        "    # Calculate F1 score\n",
        "    f1 = f1_score(all_targets, all_preds, average='weighted')\n",
        "\n",
        "    # Print results\n",
        "    print(f'\\n\\n Test set: Average loss: {test_loss:.4f}, Accuracy: {correct}/{len(test_loader.dataset)} ({accuracy:.2%}), F1 Score: {f1:.4f}')\n"
      ],
      "metadata": {
        "id": "eLme5xd8UQ_Y"
      },
      "execution_count": 104,
      "outputs": []
    },
    {
      "cell_type": "code",
      "source": [
        "test_model(model, test_loader)"
      ],
      "metadata": {
        "colab": {
          "base_uri": "https://localhost:8080/"
        },
        "id": "VCshTzwsUWoS",
        "outputId": "209211bf-164b-4e38-d911-bc4ec0b0b7bf"
      },
      "execution_count": 105,
      "outputs": [
        {
          "output_type": "stream",
          "name": "stdout",
          "text": [
            "\n",
            "\n",
            " Test set: Average loss: 0.2289, Accuracy: 618/665 (92.93%), F1 Score: 0.9283\n"
          ]
        }
      ]
    },
    {
      "cell_type": "markdown",
      "source": [
        "# Finetuning"
      ],
      "metadata": {
        "id": "1KkVBcr4zAz-"
      }
    },
    {
      "cell_type": "code",
      "source": [],
      "metadata": {
        "id": "h7PpS3-Un5go"
      },
      "execution_count": null,
      "outputs": []
    },
    {
      "cell_type": "code",
      "source": [],
      "metadata": {
        "id": "Nb6961gKn5eZ"
      },
      "execution_count": null,
      "outputs": []
    },
    {
      "cell_type": "code",
      "source": [],
      "metadata": {
        "id": "OGtH3RKFnvN3"
      },
      "execution_count": null,
      "outputs": []
    },
    {
      "cell_type": "code",
      "source": [],
      "metadata": {
        "id": "OKIYaPeSKxkk"
      },
      "execution_count": null,
      "outputs": []
    }
  ]
}